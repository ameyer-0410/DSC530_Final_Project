{
 "cells": [
  {
   "cell_type": "markdown",
   "id": "cf475337-ae23-4b7d-ad06-42bd2ec3b064",
   "metadata": {},
   "source": [
    "* Allyson Meyer\n",
    "* Final Project: How has the economy affected fertility rates in the US"
   ]
  },
  {
   "cell_type": "markdown",
   "id": "4fb653e2-1928-46eb-bf92-237af9574ac0",
   "metadata": {},
   "source": [
    "# DSC530 Final Project"
   ]
  },
  {
   "cell_type": "markdown",
   "id": "01503790-a050-4a6c-a239-bc0cd562e89f",
   "metadata": {},
   "source": [
    "### Importing the Data"
   ]
  },
  {
   "cell_type": "code",
   "execution_count": 4,
   "id": "8a495584-dd59-4d1b-b8cd-8ce65d223820",
   "metadata": {},
   "outputs": [],
   "source": [
    "import numpy as np\n",
    "import pandas as pd\n",
    "import matplotlib.pyplot as plt\n",
    "\n",
    "# read in necessary datasets\n",
    "# salary, population and fertility rates, CPI, and housing\n",
    "# data has been pulled from Bureau of Labor Statistics, census.gov, US Bureau of Statistics, and Federal Reserve Bank of St. Louis\n",
    "df1 = pd.read_csv(\"/Users/smooshii/DSC530/salary.csv\")\n",
    "df2 = pd.read_csv(\"/Users/smooshii/DSC530/population_fertility.csv\")\n",
    "df3 = pd.read_csv(\"/Users/smooshii/DSC530/cpi.csv\")\n",
    "df4 = pd.read_csv(\"/Users/smooshii/DSC530/housing.csv\")"
   ]
  },
  {
   "cell_type": "code",
   "execution_count": 5,
   "id": "0d7a680a-90ec-47a6-8524-8cb4fa477351",
   "metadata": {},
   "outputs": [
    {
     "data": {
      "text/html": [
       "<div>\n",
       "<style scoped>\n",
       "    .dataframe tbody tr th:only-of-type {\n",
       "        vertical-align: middle;\n",
       "    }\n",
       "\n",
       "    .dataframe tbody tr th {\n",
       "        vertical-align: top;\n",
       "    }\n",
       "\n",
       "    .dataframe thead th {\n",
       "        text-align: right;\n",
       "    }\n",
       "</style>\n",
       "<table border=\"1\" class=\"dataframe\">\n",
       "  <thead>\n",
       "    <tr style=\"text-align: right;\">\n",
       "      <th></th>\n",
       "      <th>Year</th>\n",
       "      <th>Annual_Salary</th>\n",
       "    </tr>\n",
       "  </thead>\n",
       "  <tbody>\n",
       "    <tr>\n",
       "      <th>0</th>\n",
       "      <td>2022</td>\n",
       "      <td>74580</td>\n",
       "    </tr>\n",
       "    <tr>\n",
       "      <th>1</th>\n",
       "      <td>2021</td>\n",
       "      <td>70780</td>\n",
       "    </tr>\n",
       "    <tr>\n",
       "      <th>2</th>\n",
       "      <td>2020</td>\n",
       "      <td>68010</td>\n",
       "    </tr>\n",
       "    <tr>\n",
       "      <th>3</th>\n",
       "      <td>2019</td>\n",
       "      <td>68700</td>\n",
       "    </tr>\n",
       "    <tr>\n",
       "      <th>4</th>\n",
       "      <td>2018</td>\n",
       "      <td>63180</td>\n",
       "    </tr>\n",
       "  </tbody>\n",
       "</table>\n",
       "</div>"
      ],
      "text/plain": [
       "   Year  Annual_Salary\n",
       "0  2022          74580\n",
       "1  2021          70780\n",
       "2  2020          68010\n",
       "3  2019          68700\n",
       "4  2018          63180"
      ]
     },
     "execution_count": 5,
     "metadata": {},
     "output_type": "execute_result"
    }
   ],
   "source": [
    "# change annual salary type to int and drop Margin of Error column\n",
    "df1['Annual_Salary'] = df1['Annual_Salary'].astype(int)\n",
    "df1 = df1.drop(['Salary_Margin_of_Error'], axis=1)\n",
    "df1.head()"
   ]
  },
  {
   "cell_type": "code",
   "execution_count": 6,
   "id": "8d841952-e753-47f4-bd16-7776e7d5dd1c",
   "metadata": {},
   "outputs": [
    {
     "data": {
      "text/html": [
       "<div>\n",
       "<style scoped>\n",
       "    .dataframe tbody tr th:only-of-type {\n",
       "        vertical-align: middle;\n",
       "    }\n",
       "\n",
       "    .dataframe tbody tr th {\n",
       "        vertical-align: top;\n",
       "    }\n",
       "\n",
       "    .dataframe thead th {\n",
       "        text-align: right;\n",
       "    }\n",
       "</style>\n",
       "<table border=\"1\" class=\"dataframe\">\n",
       "  <thead>\n",
       "    <tr style=\"text-align: right;\">\n",
       "      <th></th>\n",
       "      <th>Year</th>\n",
       "      <th>Avg_Population</th>\n",
       "      <th>Total_Fertility_Rate</th>\n",
       "    </tr>\n",
       "  </thead>\n",
       "  <tbody>\n",
       "    <tr>\n",
       "      <th>0</th>\n",
       "      <td>1967</td>\n",
       "      <td>197457000</td>\n",
       "      <td>2.578</td>\n",
       "    </tr>\n",
       "    <tr>\n",
       "      <th>1</th>\n",
       "      <td>1968</td>\n",
       "      <td>199399000</td>\n",
       "      <td>2.477</td>\n",
       "    </tr>\n",
       "    <tr>\n",
       "      <th>2</th>\n",
       "      <td>1969</td>\n",
       "      <td>201385000</td>\n",
       "      <td>2.465</td>\n",
       "    </tr>\n",
       "    <tr>\n",
       "      <th>3</th>\n",
       "      <td>1970</td>\n",
       "      <td>203984000</td>\n",
       "      <td>2.480</td>\n",
       "    </tr>\n",
       "    <tr>\n",
       "      <th>4</th>\n",
       "      <td>1971</td>\n",
       "      <td>206827000</td>\n",
       "      <td>2.266</td>\n",
       "    </tr>\n",
       "  </tbody>\n",
       "</table>\n",
       "</div>"
      ],
      "text/plain": [
       "   Year  Avg_Population  Total_Fertility_Rate\n",
       "0  1967       197457000                 2.578\n",
       "1  1968       199399000                 2.477\n",
       "2  1969       201385000                 2.465\n",
       "3  1970       203984000                 2.480\n",
       "4  1971       206827000                 2.266"
      ]
     },
     "execution_count": 6,
     "metadata": {},
     "output_type": "execute_result"
    }
   ],
   "source": [
    "# remove commas from Avg_Population and change type to int\n",
    "df2['Avg_Population'] = df2['Avg_Population'].str.replace(',', '')\n",
    "df2['Avg_Population'] = df2['Avg_Population'].astype(int)\n",
    "df2.head()"
   ]
  },
  {
   "cell_type": "code",
   "execution_count": 7,
   "id": "2607c74c-0c73-4d6c-9a3c-1e68e29faf2c",
   "metadata": {},
   "outputs": [
    {
     "data": {
      "text/html": [
       "<div>\n",
       "<style scoped>\n",
       "    .dataframe tbody tr th:only-of-type {\n",
       "        vertical-align: middle;\n",
       "    }\n",
       "\n",
       "    .dataframe tbody tr th {\n",
       "        vertical-align: top;\n",
       "    }\n",
       "\n",
       "    .dataframe thead th {\n",
       "        text-align: right;\n",
       "    }\n",
       "</style>\n",
       "<table border=\"1\" class=\"dataframe\">\n",
       "  <thead>\n",
       "    <tr style=\"text-align: right;\">\n",
       "      <th></th>\n",
       "      <th>Year</th>\n",
       "      <th>CPI</th>\n",
       "    </tr>\n",
       "  </thead>\n",
       "  <tbody>\n",
       "    <tr>\n",
       "      <th>0</th>\n",
       "      <td>1967</td>\n",
       "      <td>34.71</td>\n",
       "    </tr>\n",
       "    <tr>\n",
       "      <th>1</th>\n",
       "      <td>1968</td>\n",
       "      <td>36.32</td>\n",
       "    </tr>\n",
       "    <tr>\n",
       "      <th>2</th>\n",
       "      <td>1969</td>\n",
       "      <td>38.43</td>\n",
       "    </tr>\n",
       "    <tr>\n",
       "      <th>3</th>\n",
       "      <td>1970</td>\n",
       "      <td>40.82</td>\n",
       "    </tr>\n",
       "    <tr>\n",
       "      <th>4</th>\n",
       "      <td>1971</td>\n",
       "      <td>42.74</td>\n",
       "    </tr>\n",
       "  </tbody>\n",
       "</table>\n",
       "</div>"
      ],
      "text/plain": [
       "   Year    CPI\n",
       "0  1967  34.71\n",
       "1  1968  36.32\n",
       "2  1969  38.43\n",
       "3  1970  40.82\n",
       "4  1971  42.74"
      ]
     },
     "execution_count": 7,
     "metadata": {},
     "output_type": "execute_result"
    }
   ],
   "source": [
    "# no changes needed with df3\n",
    "df3.head()"
   ]
  },
  {
   "cell_type": "code",
   "execution_count": 8,
   "id": "771c360d-be14-4661-9b4b-26653e582826",
   "metadata": {},
   "outputs": [
    {
     "data": {
      "text/html": [
       "<div>\n",
       "<style scoped>\n",
       "    .dataframe tbody tr th:only-of-type {\n",
       "        vertical-align: middle;\n",
       "    }\n",
       "\n",
       "    .dataframe tbody tr th {\n",
       "        vertical-align: top;\n",
       "    }\n",
       "\n",
       "    .dataframe thead th {\n",
       "        text-align: right;\n",
       "    }\n",
       "</style>\n",
       "<table border=\"1\" class=\"dataframe\">\n",
       "  <thead>\n",
       "    <tr style=\"text-align: right;\">\n",
       "      <th></th>\n",
       "      <th>Year</th>\n",
       "      <th>House_Value</th>\n",
       "    </tr>\n",
       "  </thead>\n",
       "  <tbody>\n",
       "    <tr>\n",
       "      <th>0</th>\n",
       "      <td>1967</td>\n",
       "      <td>22750</td>\n",
       "    </tr>\n",
       "    <tr>\n",
       "      <th>1</th>\n",
       "      <td>1968</td>\n",
       "      <td>24800</td>\n",
       "    </tr>\n",
       "    <tr>\n",
       "      <th>2</th>\n",
       "      <td>1969</td>\n",
       "      <td>25600</td>\n",
       "    </tr>\n",
       "    <tr>\n",
       "      <th>3</th>\n",
       "      <td>1970</td>\n",
       "      <td>23475</td>\n",
       "    </tr>\n",
       "    <tr>\n",
       "      <th>4</th>\n",
       "      <td>1971</td>\n",
       "      <td>25225</td>\n",
       "    </tr>\n",
       "  </tbody>\n",
       "</table>\n",
       "</div>"
      ],
      "text/plain": [
       "   Year  House_Value\n",
       "0  1967        22750\n",
       "1  1968        24800\n",
       "2  1969        25600\n",
       "3  1970        23475\n",
       "4  1971        25225"
      ]
     },
     "execution_count": 8,
     "metadata": {},
     "output_type": "execute_result"
    }
   ],
   "source": [
    "# change DATE to datetime and only show year\n",
    "df4['DATE'] = pd.to_datetime(df4['DATE'])\n",
    "df4['DATE'] = df4['DATE'].dt.year\n",
    "\n",
    "# since data is pulled by quarters, sum each year of data and overwrite it to MSPUS\n",
    "df4 = df4.groupby('DATE')['MSPUS'].sum().reset_index()\n",
    "# since the sum was done by quarters, divide by 4 to get the average for the year and ensure data type is int\n",
    "df4['MSPUS'] = df4['MSPUS'] / 4\n",
    "df4['MSPUS'] = df4['MSPUS'].astype(int)\n",
    "\n",
    "# rename columns to be better suited for recall\n",
    "df4 = df4.rename(columns={\"MSPUS\": \"House_Value\",\n",
    "                         \"DATE\": \"Year\"})\n",
    "df4.head()"
   ]
  },
  {
   "cell_type": "code",
   "execution_count": 9,
   "id": "051f43ad-ca58-423f-abcd-5b1c2bfd47b3",
   "metadata": {},
   "outputs": [
    {
     "data": {
      "text/html": [
       "<div>\n",
       "<style scoped>\n",
       "    .dataframe tbody tr th:only-of-type {\n",
       "        vertical-align: middle;\n",
       "    }\n",
       "\n",
       "    .dataframe tbody tr th {\n",
       "        vertical-align: top;\n",
       "    }\n",
       "\n",
       "    .dataframe thead th {\n",
       "        text-align: right;\n",
       "    }\n",
       "</style>\n",
       "<table border=\"1\" class=\"dataframe\">\n",
       "  <thead>\n",
       "    <tr style=\"text-align: right;\">\n",
       "      <th></th>\n",
       "      <th>Year</th>\n",
       "      <th>Annual_Salary</th>\n",
       "      <th>Avg_Population</th>\n",
       "      <th>Total_Fertility_Rate</th>\n",
       "      <th>CPI</th>\n",
       "      <th>House_Value</th>\n",
       "      <th>House_Ratio</th>\n",
       "    </tr>\n",
       "  </thead>\n",
       "  <tbody>\n",
       "    <tr>\n",
       "      <th>0</th>\n",
       "      <td>2022</td>\n",
       "      <td>74580</td>\n",
       "      <td>333287557</td>\n",
       "      <td>1.66</td>\n",
       "      <td>294.31</td>\n",
       "      <td>432950</td>\n",
       "      <td>5.805176</td>\n",
       "    </tr>\n",
       "    <tr>\n",
       "      <th>1</th>\n",
       "      <td>2021</td>\n",
       "      <td>70780</td>\n",
       "      <td>332031554</td>\n",
       "      <td>1.66</td>\n",
       "      <td>277.25</td>\n",
       "      <td>383000</td>\n",
       "      <td>5.411133</td>\n",
       "    </tr>\n",
       "    <tr>\n",
       "      <th>2</th>\n",
       "      <td>2020</td>\n",
       "      <td>68010</td>\n",
       "      <td>331511512</td>\n",
       "      <td>1.64</td>\n",
       "      <td>267.69</td>\n",
       "      <td>328150</td>\n",
       "      <td>4.825026</td>\n",
       "    </tr>\n",
       "    <tr>\n",
       "      <th>3</th>\n",
       "      <td>2019</td>\n",
       "      <td>68700</td>\n",
       "      <td>328329953</td>\n",
       "      <td>1.71</td>\n",
       "      <td>263.21</td>\n",
       "      <td>320250</td>\n",
       "      <td>4.661572</td>\n",
       "    </tr>\n",
       "    <tr>\n",
       "      <th>4</th>\n",
       "      <td>2018</td>\n",
       "      <td>63180</td>\n",
       "      <td>326838199</td>\n",
       "      <td>1.73</td>\n",
       "      <td>257.57</td>\n",
       "      <td>325275</td>\n",
       "      <td>5.148386</td>\n",
       "    </tr>\n",
       "  </tbody>\n",
       "</table>\n",
       "</div>"
      ],
      "text/plain": [
       "   Year  Annual_Salary  Avg_Population  Total_Fertility_Rate     CPI  \\\n",
       "0  2022          74580       333287557                  1.66  294.31   \n",
       "1  2021          70780       332031554                  1.66  277.25   \n",
       "2  2020          68010       331511512                  1.64  267.69   \n",
       "3  2019          68700       328329953                  1.71  263.21   \n",
       "4  2018          63180       326838199                  1.73  257.57   \n",
       "\n",
       "   House_Value  House_Ratio  \n",
       "0       432950     5.805176  \n",
       "1       383000     5.411133  \n",
       "2       328150     4.825026  \n",
       "3       320250     4.661572  \n",
       "4       325275     5.148386  "
      ]
     },
     "execution_count": 9,
     "metadata": {},
     "output_type": "execute_result"
    }
   ],
   "source": [
    "# merge all dataframes together\n",
    "df = df1.merge(df2, how='inner', on='Year')\n",
    "df = df.merge(df3, how='inner', on='Year')\n",
    "df = df.merge(df4, how='inner', on='Year')\n",
    "# round Total_Fertility_Rate to the nearest 2 decimals for easier readability\n",
    "df['Total_Fertility_Rate'] = round(df['Total_Fertility_Rate'], 2)\n",
    "\n",
    "# create new dataframe house_ratio which is the average house value for that year and divide by the annual salary\n",
    "# this is to create a ratio as to how housing prices have changed vs annual salary\n",
    "house_ratio = df['House_Value'] / df['Annual_Salary']\n",
    "year = df['Year']\n",
    "ratio = pd.DataFrame({'Year': year, 'House_Ratio': house_ratio})\n",
    "# merge dataframe with primary df\n",
    "df = df.merge(ratio, how='inner', on='Year')\n",
    "df.head()"
   ]
  },
  {
   "cell_type": "markdown",
   "id": "84d051db-0206-4b5d-9907-4bc3c25c1a47",
   "metadata": {
    "jp-MarkdownHeadingCollapsed": true
   },
   "source": [
    "# Histograms"
   ]
  },
  {
   "cell_type": "markdown",
   "id": "b6aa369e-d3c2-41bd-9070-caf899b0a49e",
   "metadata": {
    "jp-MarkdownHeadingCollapsed": true
   },
   "source": [
    "### Annual Salary"
   ]
  },
  {
   "cell_type": "code",
   "execution_count": 12,
   "id": "43d7b130-b182-4a6f-adc8-2d798a9c3215",
   "metadata": {},
   "outputs": [
    {
     "data": {
      "image/png": "[encoded data removed]",
      "text/plain": [
       "<Figure size 640x480 with 1 Axes>"
      ]
     },
     "metadata": {},
     "output_type": "display_data"
    }
   ],
   "source": [
    "x = df['Annual_Salary']\n",
    "\n",
    "plt.hist(x)\n",
    "plt.title(\"Salary Histogram\")\n",
    "plt.ylabel('Frequency')\n",
    "plt.xlabel('Salary')\n",
    "plt.show()"
   ]
  },
  {
   "cell_type": "markdown",
   "id": "0deea8b7-bd24-4458-89de-7b774d9a0c5a",
   "metadata": {
    "jp-MarkdownHeadingCollapsed": true
   },
   "source": [
    "### Population"
   ]
  },
  {
   "cell_type": "code",
   "execution_count": 14,
   "id": "9fbedbcd-56ec-4590-b3bf-aca89af8e8da",
   "metadata": {},
   "outputs": [
    {
     "data": {
      "image/png": "[encoded data removed]",
      "text/plain": [
       "<Figure size 640x480 with 1 Axes>"
      ]
     },
     "metadata": {},
     "output_type": "display_data"
    }
   ],
   "source": [
    "x = df['Avg_Population']\n",
    "\n",
    "plt.hist(x)\n",
    "plt.title(\"Population Histogram\")\n",
    "plt.ylabel('Frequency')\n",
    "plt.xlabel('Population (per 100 million)')\n",
    "plt.show()"
   ]
  },
  {
   "cell_type": "markdown",
   "id": "a87bed27-ade4-4714-9d2a-2c4456db3884",
   "metadata": {
    "jp-MarkdownHeadingCollapsed": true
   },
   "source": [
    "### Fertility Rates"
   ]
  },
  {
   "cell_type": "code",
   "execution_count": 16,
   "id": "f8f34dc2-e107-4d07-a9b0-55ad2a180aa9",
   "metadata": {},
   "outputs": [
    {
     "data": {
      "image/png": "[encoded data removed]",
      "text/plain": [
       "<Figure size 640x480 with 1 Axes>"
      ]
     },
     "metadata": {},
     "output_type": "display_data"
    }
   ],
   "source": [
    "x = df['Total_Fertility_Rate']\n",
    "\n",
    "plt.hist(x)\n",
    "plt.title(\"Fertility Rate Histogram\")\n",
    "plt.ylabel('Frequency')\n",
    "plt.xlabel('Fertility Rate')\n",
    "plt.show()"
   ]
  },
  {
   "cell_type": "markdown",
   "id": "c9340af0-0f8f-45c6-b3b8-26c6d69dee2b",
   "metadata": {
    "jp-MarkdownHeadingCollapsed": true
   },
   "source": [
    "### CPI"
   ]
  },
  {
   "cell_type": "code",
   "execution_count": 18,
   "id": "e653761c-fa09-4ffb-a528-24c3e12ae919",
   "metadata": {},
   "outputs": [
    {
     "data": {
      "image/png": "[encoded data removed]",
      "text/plain": [
       "<Figure size 640x480 with 1 Axes>"
      ]
     },
     "metadata": {},
     "output_type": "display_data"
    }
   ],
   "source": [
    "x = df['CPI']\n",
    "\n",
    "plt.hist(x)\n",
    "plt.title(\"CPI Histogram\")\n",
    "plt.ylabel('Frequency')\n",
    "plt.xlabel('CPI')\n",
    "plt.show()"
   ]
  },
  {
   "cell_type": "markdown",
   "id": "7ea5ac6b-1033-41d8-bca6-7a07b14b97bd",
   "metadata": {
    "jp-MarkdownHeadingCollapsed": true
   },
   "source": [
    "### House Value"
   ]
  },
  {
   "cell_type": "code",
   "execution_count": 20,
   "id": "572995c2-2d8d-4607-9052-3cd41100b398",
   "metadata": {},
   "outputs": [
    {
     "data": {
      "image/png": "[encoded data removed]",
      "text/plain": [
       "<Figure size 640x480 with 1 Axes>"
      ]
     },
     "metadata": {},
     "output_type": "display_data"
    }
   ],
   "source": [
    "x = df['House_Value']\n",
    "\n",
    "plt.hist(x)\n",
    "plt.title(\"House Value Histogram\")\n",
    "plt.ylabel('Frequency')\n",
    "plt.xlabel('House_Value')\n",
    "plt.show()"
   ]
  },
  {
   "cell_type": "markdown",
   "id": "6ffe2e60-8113-46c6-85a0-48ac386da286",
   "metadata": {
    "jp-MarkdownHeadingCollapsed": true
   },
   "source": [
    "### House Ratio"
   ]
  },
  {
   "cell_type": "code",
   "execution_count": 22,
   "id": "2439cc3e-8a6a-4728-b0a5-fbb1d420d2c9",
   "metadata": {},
   "outputs": [
    {
     "data": {
      "image/png": "[encoded data removed]",
      "text/plain": [
       "<Figure size 640x480 with 1 Axes>"
      ]
     },
     "metadata": {},
     "output_type": "display_data"
    }
   ],
   "source": [
    "x = df['House_Ratio']\n",
    "\n",
    "plt.hist(x)\n",
    "plt.title(\"Ratio of Salary to House Price Histogram\")\n",
    "plt.ylabel('Frequency')\n",
    "plt.xlabel('Ratio')\n",
    "plt.show()"
   ]
  },
  {
   "cell_type": "markdown",
   "id": "95597fe2-4cef-491c-a69e-e348374a7ca7",
   "metadata": {
    "jp-MarkdownHeadingCollapsed": true
   },
   "source": [
    "# Descriptive Statistics"
   ]
  },
  {
   "cell_type": "markdown",
   "id": "eaa768db-6fe8-476f-af6a-a096abffe885",
   "metadata": {
    "jp-MarkdownHeadingCollapsed": true
   },
   "source": [
    "### Annual Salary"
   ]
  },
  {
   "cell_type": "code",
   "execution_count": 25,
   "id": "2069887e-d08b-4630-b3c9-cc002f3b27c7",
   "metadata": {},
   "outputs": [
    {
     "data": {
      "text/plain": [
       "count       56.000000\n",
       "mean     34858.107143\n",
       "std      18870.788338\n",
       "min       7143.000000\n",
       "25%      18730.000000\n",
       "50%      33170.000000\n",
       "75%      49847.500000\n",
       "max      74580.000000\n",
       "Name: Annual_Salary, dtype: float64"
      ]
     },
     "execution_count": 25,
     "metadata": {},
     "output_type": "execute_result"
    }
   ],
   "source": [
    "df['Annual_Salary'].describe()"
   ]
  },
  {
   "cell_type": "code",
   "execution_count": 26,
   "id": "762c399d-ca61-4897-8666-d71e19923f4a",
   "metadata": {},
   "outputs": [
    {
     "data": {
      "text/plain": [
       "356106652.4974027"
      ]
     },
     "execution_count": 26,
     "metadata": {},
     "output_type": "execute_result"
    }
   ],
   "source": [
    "df['Annual_Salary'].var()"
   ]
  },
  {
   "cell_type": "code",
   "execution_count": 27,
   "id": "b6fff3bc-bc43-4265-9100-44c2e59fd9e6",
   "metadata": {},
   "outputs": [
    {
     "data": {
      "text/plain": [
       "51    9028\n",
       "52    8734\n",
       "53    8389\n",
       "54    7743\n",
       "55    7143\n",
       "Name: Annual_Salary, dtype: int64"
      ]
     },
     "execution_count": 27,
     "metadata": {},
     "output_type": "execute_result"
    }
   ],
   "source": [
    "df['Annual_Salary'].tail()"
   ]
  },
  {
   "cell_type": "markdown",
   "id": "589df954-4b71-43b8-92ac-cda9557dce97",
   "metadata": {
    "jp-MarkdownHeadingCollapsed": true
   },
   "source": [
    "### Population"
   ]
  },
  {
   "cell_type": "code",
   "execution_count": 29,
   "id": "d2dc1400-a78c-4d33-a336-14b990750213",
   "metadata": {},
   "outputs": [
    {
     "data": {
      "text/plain": [
       "count    5.600000e+01\n",
       "mean     2.659165e+08\n",
       "std      4.278909e+07\n",
       "min      1.974570e+08\n",
       "25%      2.289058e+08\n",
       "50%      2.647020e+08\n",
       "75%      3.047634e+08\n",
       "max      3.332876e+08\n",
       "Name: Avg_Population, dtype: float64"
      ]
     },
     "execution_count": 29,
     "metadata": {},
     "output_type": "execute_result"
    }
   ],
   "source": [
    "df['Avg_Population'].describe()"
   ]
  },
  {
   "cell_type": "code",
   "execution_count": 30,
   "id": "eea52503-3eeb-4cec-8977-0d4bb7cfae72",
   "metadata": {},
   "outputs": [
    {
     "data": {
      "text/plain": [
       "1830906289077308.8"
      ]
     },
     "execution_count": 30,
     "metadata": {},
     "output_type": "execute_result"
    }
   ],
   "source": [
    "df['Avg_Population'].var()"
   ]
  },
  {
   "cell_type": "code",
   "execution_count": 31,
   "id": "66f6e297-0041-4065-8a42-9260a49e0521",
   "metadata": {},
   "outputs": [
    {
     "data": {
      "text/plain": [
       "51    206827000\n",
       "52    203984000\n",
       "53    201385000\n",
       "54    199399000\n",
       "55    197457000\n",
       "Name: Avg_Population, dtype: int64"
      ]
     },
     "execution_count": 31,
     "metadata": {},
     "output_type": "execute_result"
    }
   ],
   "source": [
    "df['Avg_Population'].tail()"
   ]
  },
  {
   "cell_type": "markdown",
   "id": "2e7e4169-afb8-49ea-9355-1d6a1e1a0ddd",
   "metadata": {
    "jp-MarkdownHeadingCollapsed": true
   },
   "source": [
    "### Fertility Rate"
   ]
  },
  {
   "cell_type": "code",
   "execution_count": 33,
   "id": "fe7e7690-d876-4407-b83b-7a38b04d6ebf",
   "metadata": {},
   "outputs": [
    {
     "data": {
      "text/plain": [
       "count    56.000000\n",
       "mean      1.953750\n",
       "std       0.202875\n",
       "min       1.640000\n",
       "25%       1.817500\n",
       "50%       1.930000\n",
       "75%       2.050000\n",
       "max       2.580000\n",
       "Name: Total_Fertility_Rate, dtype: float64"
      ]
     },
     "execution_count": 33,
     "metadata": {},
     "output_type": "execute_result"
    }
   ],
   "source": [
    "df['Total_Fertility_Rate'].describe()"
   ]
  },
  {
   "cell_type": "code",
   "execution_count": 34,
   "id": "dbb1f1e2-7e95-4b3a-920f-1bfa2105ffeb",
   "metadata": {},
   "outputs": [
    {
     "data": {
      "text/plain": [
       "0.0411584090909091"
      ]
     },
     "execution_count": 34,
     "metadata": {},
     "output_type": "execute_result"
    }
   ],
   "source": [
    "df['Total_Fertility_Rate'].var()"
   ]
  },
  {
   "cell_type": "code",
   "execution_count": 35,
   "id": "95169ae4-a305-4660-85e5-e564c7970ee0",
   "metadata": {},
   "outputs": [
    {
     "data": {
      "text/plain": [
       "51    2.27\n",
       "52    2.48\n",
       "53    2.46\n",
       "54    2.48\n",
       "55    2.58\n",
       "Name: Total_Fertility_Rate, dtype: float64"
      ]
     },
     "execution_count": 35,
     "metadata": {},
     "output_type": "execute_result"
    }
   ],
   "source": [
    "df['Total_Fertility_Rate'].tail()"
   ]
  },
  {
   "cell_type": "markdown",
   "id": "e26c02dd-e15b-4bba-89e3-bc035ff05ddc",
   "metadata": {
    "jp-MarkdownHeadingCollapsed": true
   },
   "source": [
    "### CPI"
   ]
  },
  {
   "cell_type": "code",
   "execution_count": 37,
   "id": "65b857f4-a8fd-4ef7-8bff-b788d8b2660a",
   "metadata": {},
   "outputs": [
    {
     "data": {
      "text/plain": [
       "count     56.000000\n",
       "mean     152.411964\n",
       "std       76.103888\n",
       "min       34.710000\n",
       "25%       87.125000\n",
       "50%      158.860000\n",
       "75%      216.487500\n",
       "max      294.310000\n",
       "Name: CPI, dtype: float64"
      ]
     },
     "execution_count": 37,
     "metadata": {},
     "output_type": "execute_result"
    }
   ],
   "source": [
    "df['CPI'].describe()"
   ]
  },
  {
   "cell_type": "code",
   "execution_count": 38,
   "id": "08664b26-18ee-4a4f-8934-4017da44be71",
   "metadata": {},
   "outputs": [
    {
     "data": {
      "text/plain": [
       "5791.80177607143"
      ]
     },
     "execution_count": 38,
     "metadata": {},
     "output_type": "execute_result"
    }
   ],
   "source": [
    "df['CPI'].var()"
   ]
  },
  {
   "cell_type": "code",
   "execution_count": 39,
   "id": "5fccf1b8-1714-45c6-b49a-e8c628ba1978",
   "metadata": {},
   "outputs": [
    {
     "data": {
      "text/plain": [
       "51    42.74\n",
       "52    40.82\n",
       "53    38.43\n",
       "54    36.32\n",
       "55    34.71\n",
       "Name: CPI, dtype: float64"
      ]
     },
     "execution_count": 39,
     "metadata": {},
     "output_type": "execute_result"
    }
   ],
   "source": [
    "df['CPI'].tail()"
   ]
  },
  {
   "cell_type": "markdown",
   "id": "31782741-92e1-49a3-a8b2-d351a3511c15",
   "metadata": {
    "jp-MarkdownHeadingCollapsed": true
   },
   "source": [
    "### House Value"
   ]
  },
  {
   "cell_type": "code",
   "execution_count": 41,
   "id": "ac338b51-8eb3-438b-a499-9c6da8e98e96",
   "metadata": {},
   "outputs": [
    {
     "data": {
      "text/plain": [
       "count        56.000000\n",
       "mean     156339.285714\n",
       "std      105484.774091\n",
       "min       22750.000000\n",
       "25%       67900.000000\n",
       "50%      131950.000000\n",
       "75%      231300.000000\n",
       "max      432950.000000\n",
       "Name: House_Value, dtype: float64"
      ]
     },
     "execution_count": 41,
     "metadata": {},
     "output_type": "execute_result"
    }
   ],
   "source": [
    "df['House_Value'].describe()"
   ]
  },
  {
   "cell_type": "code",
   "execution_count": 42,
   "id": "53940d10-324f-4566-82dc-b50d69c9fb9f",
   "metadata": {},
   "outputs": [
    {
     "data": {
      "text/plain": [
       "11127037564.935062"
      ]
     },
     "execution_count": 42,
     "metadata": {},
     "output_type": "execute_result"
    }
   ],
   "source": [
    "df['House_Value'].var()"
   ]
  },
  {
   "cell_type": "code",
   "execution_count": 43,
   "id": "a9f1315e-1a6e-4b7f-b2c5-faacc3e92003",
   "metadata": {},
   "outputs": [
    {
     "data": {
      "text/plain": [
       "51    25225\n",
       "52    23475\n",
       "53    25600\n",
       "54    24800\n",
       "55    22750\n",
       "Name: House_Value, dtype: int64"
      ]
     },
     "execution_count": 43,
     "metadata": {},
     "output_type": "execute_result"
    }
   ],
   "source": [
    "df['House_Value'].tail()"
   ]
  },
  {
   "cell_type": "markdown",
   "id": "ef25cc56-a8b8-4417-a878-515e1249135c",
   "metadata": {
    "jp-MarkdownHeadingCollapsed": true
   },
   "source": [
    "### House Ratio"
   ]
  },
  {
   "cell_type": "code",
   "execution_count": 45,
   "id": "855f34ba-2e9a-4cfa-ad4a-a6505dfea87a",
   "metadata": {},
   "outputs": [
    {
     "data": {
      "text/plain": [
       "count    56.000000\n",
       "mean      4.117358\n",
       "std       0.742807\n",
       "min       2.687772\n",
       "25%       3.607024\n",
       "50%       4.003944\n",
       "75%       4.693749\n",
       "max       5.805176\n",
       "Name: House_Ratio, dtype: float64"
      ]
     },
     "execution_count": 45,
     "metadata": {},
     "output_type": "execute_result"
    }
   ],
   "source": [
    "df['House_Ratio'].describe()"
   ]
  },
  {
   "cell_type": "code",
   "execution_count": 46,
   "id": "3d28073f-48ae-4483-b148-38991ff6e15e",
   "metadata": {},
   "outputs": [
    {
     "data": {
      "text/plain": [
       "0.5517621561659878"
      ]
     },
     "execution_count": 46,
     "metadata": {},
     "output_type": "execute_result"
    }
   ],
   "source": [
    "df['House_Ratio'].var()"
   ]
  },
  {
   "cell_type": "code",
   "execution_count": 47,
   "id": "f95358f8-b008-4e6e-87a3-0d0d6655a9e1",
   "metadata": {},
   "outputs": [
    {
     "data": {
      "text/plain": [
       "51    2.794085\n",
       "52    2.687772\n",
       "53    3.051615\n",
       "54    3.202893\n",
       "55    3.184936\n",
       "Name: House_Ratio, dtype: float64"
      ]
     },
     "execution_count": 47,
     "metadata": {},
     "output_type": "execute_result"
    }
   ],
   "source": [
    "df['House_Ratio'].tail()"
   ]
  },
  {
   "cell_type": "markdown",
   "id": "0350e5f7-7f20-4ba5-975f-b95d2993db8d",
   "metadata": {},
   "source": [
    "# PMF"
   ]
  },
  {
   "cell_type": "code",
   "execution_count": 49,
   "id": "dc2fa4a5-d3c1-4684-aa6d-26d87de45f72",
   "metadata": {},
   "outputs": [
    {
     "data": {
      "text/plain": [
       "4.117357655190988"
      ]
     },
     "execution_count": 49,
     "metadata": {},
     "output_type": "execute_result"
    }
   ],
   "source": [
    "# when house ratios are above their mean, do fertility rates drop?\n",
    "# get mean of house_ratio\n",
    "df['House_Ratio'].mean()"
   ]
  },
  {
   "cell_type": "code",
   "execution_count": 50,
   "id": "e0daacd4-3f05-486e-9732-ec420671e252",
   "metadata": {},
   "outputs": [],
   "source": [
    "# subset dataframe for house_ratios that are above its mean and below\n",
    "above_mean = df[df[\"House_Ratio\"] >= 4.117357655190988]\n",
    "below_mean = df[df[\"House_Ratio\"] <= 4.117357655190988]"
   ]
  },
  {
   "cell_type": "code",
   "execution_count": 51,
   "id": "b1608263-a878-4ecc-a2c7-065c2d4718ad",
   "metadata": {},
   "outputs": [],
   "source": [
    "import thinkstats2\n",
    "\n",
    "# create pmf of above_mean and below_mean\n",
    "above_mean_pmf = thinkstats2.Pmf(above_mean['Total_Fertility_Rate'], label=\"above mean\")\n",
    "below_mean_pmf = thinkstats2.Pmf(below_mean['Total_Fertility_Rate'], label=\"below mean\")"
   ]
  },
  {
   "cell_type": "code",
   "execution_count": 52,
   "id": "023d901d-e186-4478-8d11-3a9819ae34e5",
   "metadata": {},
   "outputs": [
    {
     "data": {
      "image/png": "[encoded data removed]",
      "text/plain": [
       "<Figure size 1200x600 with 2 Axes>"
      ]
     },
     "metadata": {},
     "output_type": "display_data"
    }
   ],
   "source": [
    "import thinkplot\n",
    "\n",
    "width = .015\n",
    "axis = [1.6, 2.6, 0, .15]\n",
    "\n",
    "# plot PMFs as histogram\n",
    "thinkplot.PrePlot(2, cols=2)\n",
    "thinkplot.Hist(above_mean_pmf, align=\"right\", width=width)\n",
    "thinkplot.Hist(below_mean_pmf, align=\"left\", width=width)\n",
    "thinkplot.Config(xlabel=\"Total Fertility Rate\", ylabel=\"PMF\", axis=axis)\n",
    "\n",
    "# second visualization for easier readability\n",
    "thinkplot.PrePlot(2)\n",
    "thinkplot.SubPlot(2)\n",
    "thinkplot.Pmfs([above_mean_pmf, below_mean_pmf])\n",
    "thinkplot.Config(xlabel=\"Total Fertility Rate\", axis=axis)"
   ]
  },
  {
   "cell_type": "markdown",
   "id": "3a10dc93-2d37-40eb-9d72-5e278c595a0f",
   "metadata": {},
   "source": [
    "# CDF"
   ]
  },
  {
   "cell_type": "code",
   "execution_count": 54,
   "id": "298f7553-a70f-4394-85e3-f5a903157fde",
   "metadata": {},
   "outputs": [
    {
     "data": {
      "image/png": "[encoded data removed]",
      "text/plain": [
       "<Figure size 640x480 with 1 Axes>"
      ]
     },
     "metadata": {},
     "output_type": "display_data"
    }
   ],
   "source": [
    "import thinkstats2\n",
    "import thinkplot\n",
    "\n",
    "# create CDF off of Total_Fertility_Rate\n",
    "cdf = thinkstats2.Cdf(df['Total_Fertility_Rate'], label='Fertility Rate')\n",
    "thinkplot.Cdf(cdf)\n",
    "thinkplot.Config(xlabel='Total Fertility Rate', ylabel='CDF', loc='upper left')"
   ]
  },
  {
   "cell_type": "markdown",
   "id": "83b8ea24-d2bc-4779-a2cc-dd44e5677bc6",
   "metadata": {},
   "source": [
    "# Analytical Distribution"
   ]
  },
  {
   "cell_type": "code",
   "execution_count": 56,
   "id": "785d275d-486f-498f-9c6f-6d3f1aa003cf",
   "metadata": {},
   "outputs": [
    {
     "name": "stderr",
     "output_type": "stream",
     "text": [
      "/opt/anaconda3/lib/python3.11/site-packages/seaborn/_oldcore.py:1119: FutureWarning: use_inf_as_na option is deprecated and will be removed in a future version. Convert inf values to NaN before operating instead.\n",
      "  with pd.option_context('mode.use_inf_as_na', True):\n"
     ]
    },
    {
     "data": {
      "image/png": "[encoded data removed]",
      "text/plain": [
       "<Figure size 1000x600 with 1 Axes>"
      ]
     },
     "metadata": {},
     "output_type": "display_data"
    },
    {
     "name": "stdout",
     "output_type": "stream",
     "text": [
      "Fitted Log-Normal Parameters:\n",
      "Shape: 0.0982\n",
      "Scale (exp(μ)): 1.9441\n"
     ]
    }
   ],
   "source": [
    "# log-normal distribution\n",
    "\n",
    "from scipy.stats import lognorm\n",
    "import seaborn as sns\n",
    "\n",
    "# extract Total_Fertility_Rate column\n",
    "total_fertility_rate = df['Total_Fertility_Rate']\n",
    "\n",
    "# fit log-normal distribution to the data\n",
    "shape, loc, scale = lognorm.fit(total_fertility_rate, floc=0)\n",
    "\n",
    "# plot the histogram of the data\n",
    "plt.figure(figsize=(10, 6))\n",
    "sns.histplot(total_fertility_rate, kde=False, color='purple', bins=15, stat='density')\n",
    "\n",
    "# plot the PDF of fitted log-normal distribution\n",
    "xmin, xmax = plt.xlim()\n",
    "x = np.linspace(xmin, xmax, 100)\n",
    "p = lognorm.pdf(x, shape, loc, scale)\n",
    "plt.plot(x, p, 'k', linewidth=2, label=f'Log-Normal Fit')\n",
    "plt.xlabel('Total Fertility Rate')\n",
    "plt.ylabel('Density')\n",
    "plt.title('Fit of Log-Normal Distribution to Total Fertility Rate')\n",
    "plt.legend()\n",
    "plt.show()\n",
    "\n",
    "# display the fitted parameters\n",
    "print(f'Fitted Log-Normal Parameters:\\nShape: {shape:.4f}\\nScale (exp(μ)): {scale:.4f}')"
   ]
  },
  {
   "cell_type": "markdown",
   "id": "c6fa3a79-9a82-4708-ba4e-7a66042ece21",
   "metadata": {},
   "source": [
    "# Scatter Plots"
   ]
  },
  {
   "cell_type": "code",
   "execution_count": 58,
   "id": "7f8d4e31-977c-45b5-8ce0-56c5e0f23f5b",
   "metadata": {},
   "outputs": [
    {
     "data": {
      "image/png": "[encoded data removed]",
      "text/plain": [
       "<Figure size 640x480 with 1 Axes>"
      ]
     },
     "metadata": {},
     "output_type": "display_data"
    }
   ],
   "source": [
    "# cpi vs fertility rate\n",
    "plt.scatter(df['CPI'], df['Total_Fertility_Rate'])\n",
    "plt.xlabel('CPI')\n",
    "plt.ylabel('Fertility Rate')\n",
    "plt.title('Scatter Plot of CPI vs Total Fertility Rate')\n",
    "plt.show()"
   ]
  },
  {
   "cell_type": "code",
   "execution_count": 59,
   "id": "7b892b58-79db-4a7b-8ebd-8bd419e25772",
   "metadata": {},
   "outputs": [
    {
     "data": {
      "image/png": "[encoded data removed]",
      "text/plain": [
       "<Figure size 640x480 with 1 Axes>"
      ]
     },
     "metadata": {},
     "output_type": "display_data"
    }
   ],
   "source": [
    "# house value vs fertility rate\n",
    "plt.scatter(df['House_Ratio'], df['Total_Fertility_Rate'])\n",
    "plt.xlabel('House Ratio')\n",
    "plt.ylabel('Fertility Rate')\n",
    "plt.title('Scatter Plot of House Ratio vs Total Fertility Rate')\n",
    "plt.show()"
   ]
  },
  {
   "cell_type": "markdown",
   "id": "3908126b-1ada-48d9-a807-6e714b19aea7",
   "metadata": {},
   "source": [
    "# Hypothesis Test"
   ]
  },
  {
   "cell_type": "code",
   "execution_count": 61,
   "id": "cf72c024-a551-4308-a192-48febe719a39",
   "metadata": {},
   "outputs": [
    {
     "data": {
      "text/html": [
       "<div>\n",
       "<style scoped>\n",
       "    .dataframe tbody tr th:only-of-type {\n",
       "        vertical-align: middle;\n",
       "    }\n",
       "\n",
       "    .dataframe tbody tr th {\n",
       "        vertical-align: top;\n",
       "    }\n",
       "\n",
       "    .dataframe thead th {\n",
       "        text-align: right;\n",
       "    }\n",
       "</style>\n",
       "<table border=\"1\" class=\"dataframe\">\n",
       "  <thead>\n",
       "    <tr style=\"text-align: right;\">\n",
       "      <th></th>\n",
       "      <th>Year</th>\n",
       "      <th>Annual_Salary</th>\n",
       "      <th>Avg_Population</th>\n",
       "      <th>Total_Fertility_Rate</th>\n",
       "      <th>CPI</th>\n",
       "      <th>House_Value</th>\n",
       "      <th>House_Ratio</th>\n",
       "    </tr>\n",
       "  </thead>\n",
       "  <tbody>\n",
       "    <tr>\n",
       "      <th>Year</th>\n",
       "      <td>1.000000</td>\n",
       "      <td>0.992850</td>\n",
       "      <td>0.998460</td>\n",
       "      <td>-0.418581</td>\n",
       "      <td>0.997618</td>\n",
       "      <td>0.973166</td>\n",
       "      <td>0.935703</td>\n",
       "    </tr>\n",
       "    <tr>\n",
       "      <th>Annual_Salary</th>\n",
       "      <td>0.992850</td>\n",
       "      <td>1.000000</td>\n",
       "      <td>0.989970</td>\n",
       "      <td>-0.405738</td>\n",
       "      <td>0.993396</td>\n",
       "      <td>0.987238</td>\n",
       "      <td>0.930918</td>\n",
       "    </tr>\n",
       "    <tr>\n",
       "      <th>Avg_Population</th>\n",
       "      <td>0.998460</td>\n",
       "      <td>0.989970</td>\n",
       "      <td>1.000000</td>\n",
       "      <td>-0.392351</td>\n",
       "      <td>0.995262</td>\n",
       "      <td>0.970491</td>\n",
       "      <td>0.930416</td>\n",
       "    </tr>\n",
       "    <tr>\n",
       "      <th>Total_Fertility_Rate</th>\n",
       "      <td>-0.418581</td>\n",
       "      <td>-0.405738</td>\n",
       "      <td>-0.392351</td>\n",
       "      <td>1.000000</td>\n",
       "      <td>-0.382865</td>\n",
       "      <td>-0.406857</td>\n",
       "      <td>-0.415507</td>\n",
       "    </tr>\n",
       "    <tr>\n",
       "      <th>CPI</th>\n",
       "      <td>0.997618</td>\n",
       "      <td>0.993396</td>\n",
       "      <td>0.995262</td>\n",
       "      <td>-0.382865</td>\n",
       "      <td>1.000000</td>\n",
       "      <td>0.971899</td>\n",
       "      <td>0.931188</td>\n",
       "    </tr>\n",
       "    <tr>\n",
       "      <th>House_Value</th>\n",
       "      <td>0.973166</td>\n",
       "      <td>0.987238</td>\n",
       "      <td>0.970491</td>\n",
       "      <td>-0.406857</td>\n",
       "      <td>0.971899</td>\n",
       "      <td>1.000000</td>\n",
       "      <td>0.952471</td>\n",
       "    </tr>\n",
       "    <tr>\n",
       "      <th>House_Ratio</th>\n",
       "      <td>0.935703</td>\n",
       "      <td>0.930918</td>\n",
       "      <td>0.930416</td>\n",
       "      <td>-0.415507</td>\n",
       "      <td>0.931188</td>\n",
       "      <td>0.952471</td>\n",
       "      <td>1.000000</td>\n",
       "    </tr>\n",
       "  </tbody>\n",
       "</table>\n",
       "</div>"
      ],
      "text/plain": [
       "                          Year  Annual_Salary  Avg_Population  \\\n",
       "Year                  1.000000       0.992850        0.998460   \n",
       "Annual_Salary         0.992850       1.000000        0.989970   \n",
       "Avg_Population        0.998460       0.989970        1.000000   \n",
       "Total_Fertility_Rate -0.418581      -0.405738       -0.392351   \n",
       "CPI                   0.997618       0.993396        0.995262   \n",
       "House_Value           0.973166       0.987238        0.970491   \n",
       "House_Ratio           0.935703       0.930918        0.930416   \n",
       "\n",
       "                      Total_Fertility_Rate       CPI  House_Value  House_Ratio  \n",
       "Year                             -0.418581  0.997618     0.973166     0.935703  \n",
       "Annual_Salary                    -0.405738  0.993396     0.987238     0.930918  \n",
       "Avg_Population                   -0.392351  0.995262     0.970491     0.930416  \n",
       "Total_Fertility_Rate              1.000000 -0.382865    -0.406857    -0.415507  \n",
       "CPI                              -0.382865  1.000000     0.971899     0.931188  \n",
       "House_Value                      -0.406857  0.971899     1.000000     0.952471  \n",
       "House_Ratio                      -0.415507  0.931188     0.952471     1.000000  "
      ]
     },
     "execution_count": 61,
     "metadata": {},
     "output_type": "execute_result"
    }
   ],
   "source": [
    "# use correlation as hypothesis test\n",
    "df.corr(method='pearson')"
   ]
  },
  {
   "cell_type": "markdown",
   "id": "b71e2d81-22b7-48f9-982e-22797b4a8404",
   "metadata": {},
   "source": []
  },
  {
   "cell_type": "markdown",
   "id": "b996caf7-d5e4-4a09-9a0b-6b18a89e76b7",
   "metadata": {},
   "source": [
    "# Regression Analysis"
   ]
  },
  {
   "cell_type": "code",
   "execution_count": 64,
   "id": "a532bb6c-2b80-43e0-a7b7-d0b836a91aa9",
   "metadata": {},
   "outputs": [
    {
     "name": "stdout",
     "output_type": "stream",
     "text": [
      "Mean Squared Error (MSE): 0.0033663609993836896\n",
      "R-squared (R²): 0.9229408517476193\n"
     ]
    },
    {
     "data": {
      "image/png": "[encoded data removed]",
      "text/plain": [
       "<Figure size 1000x600 with 1 Axes>"
      ]
     },
     "metadata": {},
     "output_type": "display_data"
    }
   ],
   "source": [
    "# polynomial regression\n",
    "\n",
    "from sklearn.model_selection import train_test_split\n",
    "from sklearn.linear_model import LinearRegression\n",
    "from sklearn.preprocessing import PolynomialFeatures\n",
    "from sklearn.metrics import mean_squared_error, r2_score\n",
    "\n",
    "# define data\n",
    "X = df[['Year', 'Annual_Salary', 'Avg_Population', 'CPI', 'House_Value', 'House_Ratio']]\n",
    "y = df['Total_Fertility_Rate']\n",
    "\n",
    "# create polynomial features with degree 2\n",
    "poly = PolynomialFeatures(degree=2, include_bias=False)\n",
    "poly_features = poly.fit_transform(X)\n",
    "\n",
    "# split the polynomial features into training and testing sets\n",
    "X_train_poly, X_test_poly, y_train, y_test = train_test_split(poly_features, y, test_size=0.2, random_state=42)\n",
    "\n",
    "# create and train the polynomial regression model\n",
    "poly_model = LinearRegression()\n",
    "poly_model.fit(X_train_poly, y_train)\n",
    "\n",
    "# predict the target variable for the test set\n",
    "y_pred_poly = poly_model.predict(X_test_poly)\n",
    "\n",
    "# evaluate the polynomial model\n",
    "mse_poly = mean_squared_error(y_test, y_pred_poly)\n",
    "r2_poly = r2_score(y_test, y_pred_poly)\n",
    "\n",
    "print(f'Mean Squared Error (MSE): {mse_poly}')\n",
    "print(f'R-squared (R²): {r2_poly}')\n",
    "\n",
    "# plot actual vs. predicted values\n",
    "plt.figure(figsize=(10, 6))\n",
    "plt.scatter(y_test, y_pred_poly, color='Purple', alpha=0.6)\n",
    "plt.plot([y.min(), y.max()], [y.min(), y.max()], color='pink', lw=2)  # Diagonal line (perfect prediction)\n",
    "plt.xlabel('Actual Total Fertility Rate')\n",
    "plt.ylabel('Predicted Total Fertility Rate')\n",
    "plt.title('Actual vs. Predicted Total Fertility Rate (Polynomial Regression)')\n",
    "plt.grid(True)\n",
    "plt.show()"
   ]
  },
  {
   "cell_type": "code",
   "execution_count": null,
   "id": "db713027-53c8-4ad1-988e-aae9680261b0",
   "metadata": {},
   "outputs": [],
   "source": []
  }
 ],
 "metadata": {
  "kernelspec": {
   "display_name": "Python 3 (ipykernel)",
   "language": "python",
   "name": "python3"
  },
  "language_info": {
   "codemirror_mode": {
    "name": "ipython",
    "version": 3
   },
   "file_extension": ".py",
   "mimetype": "text/x-python",
   "name": "python",
   "nbconvert_exporter": "python",
   "pygments_lexer": "ipython3",
   "version": "3.11.7"
  }
 },
 "nbformat": 4,
 "nbformat_minor": 5
}
